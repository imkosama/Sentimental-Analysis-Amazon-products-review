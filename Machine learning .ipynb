{
 "cells": [
  {
   "cell_type": "markdown",
   "id": "3f730b55",
   "metadata": {},
   "source": [
    "My aim in this notebook is to predict reviews as positive or negative from text. To do this, I used machine learning algoritms. Also, deep learning solutions can be found in same repo."
   ]
  },
  {
   "cell_type": "code",
   "execution_count": 1,
   "id": "2d1d63cf",
   "metadata": {},
   "outputs": [],
   "source": [
    "import pandas as pd\n",
    "import numpy as np\n",
    "import seaborn as sns\n",
    "import matplotlib.pyplot as plt\n",
    "%matplotlib inline\n",
    "import matplotlib as mpl"
   ]
  },
  {
   "cell_type": "code",
   "execution_count": 2,
   "id": "1e51f0c8",
   "metadata": {},
   "outputs": [],
   "source": [
    "# sklearn imports for modelling parts\n",
    "from sklearn.feature_extraction.text import TfidfVectorizer\n",
    "from sklearn.tree import DecisionTreeClassifier\n",
    "from sklearn.linear_model import LogisticRegression\n",
    "from sklearn.ensemble import RandomForestClassifier,ExtraTreesClassifier\n",
    "from sklearn.model_selection import cross_val_score\n",
    "from sklearn.metrics import accuracy_score,balanced_accuracy_score\n",
    "from sklearn.model_selection import train_test_split\n",
    "from sklearn.model_selection import GridSearchCV\n",
    "from sklearn.metrics import roc_auc_score\n",
    "\n",
    "from mlxtend.evaluate import confusion_matrix\n",
    "from mlxtend.plotting import plot_confusion_matrix,plot_decision_regions\n",
    "import warnings\n",
    "warnings.filterwarnings('ignore')"
   ]
  },
  {
   "cell_type": "code",
   "execution_count": 3,
   "id": "a0841fa7",
   "metadata": {},
   "outputs": [],
   "source": [
    "import nltk\n",
    "from nltk.corpus import stopwords\n",
    "\n",
    "import xgboost as xgb\n",
    "from xgboost import XGBClassifier\n",
    "\n",
    "import lightgbm as lgm\n",
    "from lightgbm import LGBMClassifier\n"
   ]
  },
  {
   "cell_type": "code",
   "execution_count": 2,
   "id": "f1f63a53",
   "metadata": {},
   "outputs": [],
   "source": [
    "pd.options.display.max_columns=100 # To hidden column in Dataframe"
   ]
  },
  {
   "cell_type": "code",
   "execution_count": 3,
   "id": "31d21cf4",
   "metadata": {},
   "outputs": [
    {
     "data": {
      "text/html": [
       "<div>\n",
       "<style scoped>\n",
       "    .dataframe tbody tr th:only-of-type {\n",
       "        vertical-align: middle;\n",
       "    }\n",
       "\n",
       "    .dataframe tbody tr th {\n",
       "        vertical-align: top;\n",
       "    }\n",
       "\n",
       "    .dataframe thead th {\n",
       "        text-align: right;\n",
       "    }\n",
       "</style>\n",
       "<table border=\"1\" class=\"dataframe\">\n",
       "  <thead>\n",
       "    <tr style=\"text-align: right;\">\n",
       "      <th></th>\n",
       "      <th>verified</th>\n",
       "      <th>reviewTime</th>\n",
       "      <th>reviewerID</th>\n",
       "      <th>asin</th>\n",
       "      <th>style</th>\n",
       "      <th>reviewText</th>\n",
       "      <th>summary</th>\n",
       "      <th>overall</th>\n",
       "      <th>day</th>\n",
       "      <th>month</th>\n",
       "      <th>year</th>\n",
       "      <th>sentiment</th>\n",
       "      <th>review_clean</th>\n",
       "    </tr>\n",
       "  </thead>\n",
       "  <tbody>\n",
       "    <tr>\n",
       "      <th>0</th>\n",
       "      <td>False</td>\n",
       "      <td>2004-08-09</td>\n",
       "      <td>AXHY24HWOF184</td>\n",
       "      <td>B0007Y09VO</td>\n",
       "      <td>{'Format:': ' Paperback'}</td>\n",
       "      <td>crocheting for dummies by karen manthey &amp; susa...</td>\n",
       "      <td>Terrific Book for Learning the Art of Crochet</td>\n",
       "      <td>5</td>\n",
       "      <td>9</td>\n",
       "      <td>8</td>\n",
       "      <td>2004</td>\n",
       "      <td>2</td>\n",
       "      <td>crocheting for dummies by karen manthey  susan...</td>\n",
       "    </tr>\n",
       "    <tr>\n",
       "      <th>1</th>\n",
       "      <td>True</td>\n",
       "      <td>2017-04-06</td>\n",
       "      <td>A29OWR79AM796H</td>\n",
       "      <td>B0007Y09VO</td>\n",
       "      <td>{'Format:': ' Hardcover'}</td>\n",
       "      <td>very helpful...</td>\n",
       "      <td>Four Stars</td>\n",
       "      <td>4</td>\n",
       "      <td>6</td>\n",
       "      <td>4</td>\n",
       "      <td>2017</td>\n",
       "      <td>2</td>\n",
       "      <td>very helpful</td>\n",
       "    </tr>\n",
       "    <tr>\n",
       "      <th>2</th>\n",
       "      <td>True</td>\n",
       "      <td>2017-03-14</td>\n",
       "      <td>AUPWU27A7X5F6</td>\n",
       "      <td>B0007Y09VO</td>\n",
       "      <td>{'Format:': ' Paperback'}</td>\n",
       "      <td>easy to understand and a prompt service too</td>\n",
       "      <td>Five Stars</td>\n",
       "      <td>5</td>\n",
       "      <td>14</td>\n",
       "      <td>3</td>\n",
       "      <td>2017</td>\n",
       "      <td>2</td>\n",
       "      <td>easy to understand and a prompt service too</td>\n",
       "    </tr>\n",
       "    <tr>\n",
       "      <th>3</th>\n",
       "      <td>True</td>\n",
       "      <td>2017-02-14</td>\n",
       "      <td>A1N69A47D4JO6K</td>\n",
       "      <td>B0007Y09VO</td>\n",
       "      <td>{'Format:': ' Paperback'}</td>\n",
       "      <td>my girlfriend use quite often</td>\n",
       "      <td>Four Stars</td>\n",
       "      <td>4</td>\n",
       "      <td>14</td>\n",
       "      <td>2</td>\n",
       "      <td>2017</td>\n",
       "      <td>2</td>\n",
       "      <td>my girlfriend use quite often</td>\n",
       "    </tr>\n",
       "    <tr>\n",
       "      <th>4</th>\n",
       "      <td>True</td>\n",
       "      <td>2017-01-29</td>\n",
       "      <td>AHTIQUMVCGBFJ</td>\n",
       "      <td>B0007Y09VO</td>\n",
       "      <td>{'Format:': ' Paperback'}</td>\n",
       "      <td>arrived as described. very happy.</td>\n",
       "      <td>Very happy.</td>\n",
       "      <td>5</td>\n",
       "      <td>29</td>\n",
       "      <td>1</td>\n",
       "      <td>2017</td>\n",
       "      <td>2</td>\n",
       "      <td>arrived as described very happy</td>\n",
       "    </tr>\n",
       "    <tr>\n",
       "      <th>...</th>\n",
       "      <td>...</td>\n",
       "      <td>...</td>\n",
       "      <td>...</td>\n",
       "      <td>...</td>\n",
       "      <td>...</td>\n",
       "      <td>...</td>\n",
       "      <td>...</td>\n",
       "      <td>...</td>\n",
       "      <td>...</td>\n",
       "      <td>...</td>\n",
       "      <td>...</td>\n",
       "      <td>...</td>\n",
       "      <td>...</td>\n",
       "    </tr>\n",
       "    <tr>\n",
       "      <th>795</th>\n",
       "      <td>True</td>\n",
       "      <td>2014-04-24</td>\n",
       "      <td>A69MAQH7YSJT1</td>\n",
       "      <td>B0007Y6NZ262</td>\n",
       "      <td>NaN</td>\n",
       "      <td>use it</td>\n",
       "      <td>I like it</td>\n",
       "      <td>4</td>\n",
       "      <td>24</td>\n",
       "      <td>4</td>\n",
       "      <td>2014</td>\n",
       "      <td>2</td>\n",
       "      <td>use it</td>\n",
       "    </tr>\n",
       "    <tr>\n",
       "      <th>796</th>\n",
       "      <td>True</td>\n",
       "      <td>2014-04-23</td>\n",
       "      <td>A34E7AQBJKHJVJ</td>\n",
       "      <td>B0007Y6NZ263</td>\n",
       "      <td>NaN</td>\n",
       "      <td>i saw people learning the uke instantly at my ...</td>\n",
       "      <td>Better than I thought It Would Be - Great for ...</td>\n",
       "      <td>5</td>\n",
       "      <td>23</td>\n",
       "      <td>4</td>\n",
       "      <td>2014</td>\n",
       "      <td>2</td>\n",
       "      <td>i saw people learning the uke instantly at my ...</td>\n",
       "    </tr>\n",
       "    <tr>\n",
       "      <th>797</th>\n",
       "      <td>True</td>\n",
       "      <td>2014-04-22</td>\n",
       "      <td>AA4BO7WP95JAR</td>\n",
       "      <td>B0007Y6NZ264</td>\n",
       "      <td>NaN</td>\n",
       "      <td>i didn't think anyone could screw up a ukulele...</td>\n",
       "      <td>Terrible instrument. You get what you pay for.</td>\n",
       "      <td>1</td>\n",
       "      <td>22</td>\n",
       "      <td>4</td>\n",
       "      <td>2014</td>\n",
       "      <td>0</td>\n",
       "      <td>i didnt think anyone could screw up a ukulele ...</td>\n",
       "    </tr>\n",
       "    <tr>\n",
       "      <th>798</th>\n",
       "      <td>True</td>\n",
       "      <td>2014-04-14</td>\n",
       "      <td>A35BABWG5NUC4K</td>\n",
       "      <td>B0007Y6NZ265</td>\n",
       "      <td>NaN</td>\n",
       "      <td>i am really happy with this started pack. it h...</td>\n",
       "      <td>My learning Exp</td>\n",
       "      <td>5</td>\n",
       "      <td>14</td>\n",
       "      <td>4</td>\n",
       "      <td>2014</td>\n",
       "      <td>2</td>\n",
       "      <td>i am really happy with this started pack it ha...</td>\n",
       "    </tr>\n",
       "    <tr>\n",
       "      <th>799</th>\n",
       "      <td>True</td>\n",
       "      <td>2015-06-27</td>\n",
       "      <td>A2JC3Y04IS96HW</td>\n",
       "      <td>B0007Y6NZ266</td>\n",
       "      <td>NaN</td>\n",
       "      <td>arrived on time and works great</td>\n",
       "      <td>Five Stars</td>\n",
       "      <td>5</td>\n",
       "      <td>27</td>\n",
       "      <td>6</td>\n",
       "      <td>2015</td>\n",
       "      <td>2</td>\n",
       "      <td>arrived on time and works great</td>\n",
       "    </tr>\n",
       "  </tbody>\n",
       "</table>\n",
       "<p>800 rows × 13 columns</p>\n",
       "</div>"
      ],
      "text/plain": [
       "     verified  reviewTime      reviewerID          asin  \\\n",
       "0       False  2004-08-09   AXHY24HWOF184    B0007Y09VO   \n",
       "1        True  2017-04-06  A29OWR79AM796H    B0007Y09VO   \n",
       "2        True  2017-03-14   AUPWU27A7X5F6    B0007Y09VO   \n",
       "3        True  2017-02-14  A1N69A47D4JO6K    B0007Y09VO   \n",
       "4        True  2017-01-29   AHTIQUMVCGBFJ    B0007Y09VO   \n",
       "..        ...         ...             ...           ...   \n",
       "795      True  2014-04-24   A69MAQH7YSJT1  B0007Y6NZ262   \n",
       "796      True  2014-04-23  A34E7AQBJKHJVJ  B0007Y6NZ263   \n",
       "797      True  2014-04-22   AA4BO7WP95JAR  B0007Y6NZ264   \n",
       "798      True  2014-04-14  A35BABWG5NUC4K  B0007Y6NZ265   \n",
       "799      True  2015-06-27  A2JC3Y04IS96HW  B0007Y6NZ266   \n",
       "\n",
       "                         style  \\\n",
       "0    {'Format:': ' Paperback'}   \n",
       "1    {'Format:': ' Hardcover'}   \n",
       "2    {'Format:': ' Paperback'}   \n",
       "3    {'Format:': ' Paperback'}   \n",
       "4    {'Format:': ' Paperback'}   \n",
       "..                         ...   \n",
       "795                        NaN   \n",
       "796                        NaN   \n",
       "797                        NaN   \n",
       "798                        NaN   \n",
       "799                        NaN   \n",
       "\n",
       "                                            reviewText  \\\n",
       "0    crocheting for dummies by karen manthey & susa...   \n",
       "1                                      very helpful...   \n",
       "2          easy to understand and a prompt service too   \n",
       "3                        my girlfriend use quite often   \n",
       "4                    arrived as described. very happy.   \n",
       "..                                                 ...   \n",
       "795                                             use it   \n",
       "796  i saw people learning the uke instantly at my ...   \n",
       "797  i didn't think anyone could screw up a ukulele...   \n",
       "798  i am really happy with this started pack. it h...   \n",
       "799                    arrived on time and works great   \n",
       "\n",
       "                                               summary  overall  day  month  \\\n",
       "0        Terrific Book for Learning the Art of Crochet        5    9      8   \n",
       "1                                           Four Stars        4    6      4   \n",
       "2                                           Five Stars        5   14      3   \n",
       "3                                           Four Stars        4   14      2   \n",
       "4                                          Very happy.        5   29      1   \n",
       "..                                                 ...      ...  ...    ...   \n",
       "795                                          I like it        4   24      4   \n",
       "796  Better than I thought It Would Be - Great for ...        5   23      4   \n",
       "797     Terrible instrument. You get what you pay for.        1   22      4   \n",
       "798                                    My learning Exp        5   14      4   \n",
       "799                                         Five Stars        5   27      6   \n",
       "\n",
       "     year  sentiment                                       review_clean  \n",
       "0    2004          2  crocheting for dummies by karen manthey  susan...  \n",
       "1    2017          2                                       very helpful  \n",
       "2    2017          2        easy to understand and a prompt service too  \n",
       "3    2017          2                      my girlfriend use quite often  \n",
       "4    2017          2                    arrived as described very happy  \n",
       "..    ...        ...                                                ...  \n",
       "795  2014          2                                             use it  \n",
       "796  2014          2  i saw people learning the uke instantly at my ...  \n",
       "797  2014          0  i didnt think anyone could screw up a ukulele ...  \n",
       "798  2014          2  i am really happy with this started pack it ha...  \n",
       "799  2015          2                    arrived on time and works great  \n",
       "\n",
       "[800 rows x 13 columns]"
      ]
     },
     "execution_count": 3,
     "metadata": {},
     "output_type": "execute_result"
    }
   ],
   "source": [
    "df=pd.read_csv('C:/Users/Osama Khan/OneDrive/Documents/Data Science/DS Project 2/cleaned_data.csv',low_memory=False)\n",
    "df"
   ]
  },
  {
   "cell_type": "code",
   "execution_count": 6,
   "id": "dee73bbc",
   "metadata": {},
   "outputs": [
    {
     "data": {
      "text/plain": [
       "verified          0\n",
       "reviewTime        0\n",
       "reviewerID        0\n",
       "asin              0\n",
       "style           557\n",
       "reviewText        0\n",
       "summary           0\n",
       "overall           0\n",
       "day               0\n",
       "month             0\n",
       "year              0\n",
       "sentiment         0\n",
       "review_clean      1\n",
       "dtype: int64"
      ]
     },
     "execution_count": 6,
     "metadata": {},
     "output_type": "execute_result"
    }
   ],
   "source": [
    "df.isna().sum()"
   ]
  },
  {
   "cell_type": "code",
   "execution_count": 7,
   "id": "82ec560c",
   "metadata": {},
   "outputs": [],
   "source": [
    "df.dropna(subset=['review_clean'],inplace=True) # Dropping null in review_clean column"
   ]
  },
  {
   "cell_type": "code",
   "execution_count": 8,
   "id": "d300de1f",
   "metadata": {},
   "outputs": [
    {
     "data": {
      "text/plain": [
       "verified          0\n",
       "reviewTime        0\n",
       "reviewerID        0\n",
       "asin              0\n",
       "style           556\n",
       "reviewText        0\n",
       "summary           0\n",
       "overall           0\n",
       "day               0\n",
       "month             0\n",
       "year              0\n",
       "sentiment         0\n",
       "review_clean      0\n",
       "dtype: int64"
      ]
     },
     "execution_count": 8,
     "metadata": {},
     "output_type": "execute_result"
    }
   ],
   "source": [
    "df.isna().sum()"
   ]
  },
  {
   "cell_type": "code",
   "execution_count": 4,
   "id": "057b9e80",
   "metadata": {},
   "outputs": [],
   "source": [
    "def calc_two_sentiment(overall):\n",
    "    ''' This functions encodes the ratings 1 and 2 as 0 ,others as 1'''\n",
    "    if overall>=3:\n",
    "        return 1 # for positve \n",
    "    else:\n",
    "        return 0 # for negative\n",
    "    "
   ]
  },
  {
   "cell_type": "code",
   "execution_count": 5,
   "id": "c0e4abd1",
   "metadata": {},
   "outputs": [],
   "source": [
    "df['sentiment']=df['overall'].apply(calc_two_sentiment) # applying converter to change the sentiment from 3 to 2 classed."
   ]
  },
  {
   "cell_type": "code",
   "execution_count": 6,
   "id": "1529bb83",
   "metadata": {},
   "outputs": [
    {
     "data": {
      "text/plain": [
       "1    628\n",
       "0    172\n",
       "Name: sentiment, dtype: int64"
      ]
     },
     "execution_count": 6,
     "metadata": {},
     "output_type": "execute_result"
    }
   ],
   "source": [
    "df['sentiment'].value_counts()"
   ]
  },
  {
   "cell_type": "code",
   "execution_count": 7,
   "id": "5898d2cd",
   "metadata": {},
   "outputs": [],
   "source": [
    "df_0=df.loc[df['sentiment']==0].head(170) # for negative"
   ]
  },
  {
   "cell_type": "code",
   "execution_count": 8,
   "id": "f38233ae",
   "metadata": {},
   "outputs": [],
   "source": [
    "df_1=df.loc[df['sentiment']==1].head(170) # for positive"
   ]
  },
  {
   "cell_type": "code",
   "execution_count": 9,
   "id": "299d424f",
   "metadata": {},
   "outputs": [],
   "source": [
    "frame=[df_0,df_1]\n",
    "df_sampled=pd.concat(frame)"
   ]
  },
  {
   "cell_type": "code",
   "execution_count": 10,
   "id": "70668038",
   "metadata": {},
   "outputs": [
    {
     "data": {
      "text/plain": [
       "0    170\n",
       "1    170\n",
       "Name: sentiment, dtype: int64"
      ]
     },
     "execution_count": 10,
     "metadata": {},
     "output_type": "execute_result"
    }
   ],
   "source": [
    "df_sampled['sentiment'].value_counts()"
   ]
  },
  {
   "cell_type": "code",
   "execution_count": 11,
   "id": "cd6f694d",
   "metadata": {},
   "outputs": [
    {
     "data": {
      "text/plain": [
       "<AxesSubplot:xlabel='sentiment', ylabel='count'>"
      ]
     },
     "execution_count": 11,
     "metadata": {},
     "output_type": "execute_result"
    },
    {
     "data": {
      "image/png": "[encoded data removed]",
      "text/plain": [
       "<Figure size 432x288 with 1 Axes>"
      ]
     },
     "metadata": {
      "needs_background": "light"
     },
     "output_type": "display_data"
    }
   ],
   "source": [
    "sns.countplot(x='sentiment',data=df_sampled)"
   ]
  },
  {
   "cell_type": "code",
   "execution_count": 12,
   "id": "daab6a03",
   "metadata": {},
   "outputs": [
    {
     "data": {
      "text/html": [
       "<div>\n",
       "<style scoped>\n",
       "    .dataframe tbody tr th:only-of-type {\n",
       "        vertical-align: middle;\n",
       "    }\n",
       "\n",
       "    .dataframe tbody tr th {\n",
       "        vertical-align: top;\n",
       "    }\n",
       "\n",
       "    .dataframe thead th {\n",
       "        text-align: right;\n",
       "    }\n",
       "</style>\n",
       "<table border=\"1\" class=\"dataframe\">\n",
       "  <thead>\n",
       "    <tr style=\"text-align: right;\">\n",
       "      <th></th>\n",
       "      <th>verified</th>\n",
       "      <th>reviewTime</th>\n",
       "      <th>reviewerID</th>\n",
       "      <th>asin</th>\n",
       "      <th>style</th>\n",
       "      <th>reviewText</th>\n",
       "      <th>summary</th>\n",
       "      <th>overall</th>\n",
       "      <th>day</th>\n",
       "      <th>month</th>\n",
       "      <th>year</th>\n",
       "      <th>sentiment</th>\n",
       "      <th>review_clean</th>\n",
       "    </tr>\n",
       "  </thead>\n",
       "  <tbody>\n",
       "    <tr>\n",
       "      <th>67</th>\n",
       "      <td>True</td>\n",
       "      <td>2015-02-04</td>\n",
       "      <td>A1JN8TZDMG8Y2F</td>\n",
       "      <td>B0007Y09VO</td>\n",
       "      <td>{'Format:': ' Paperback'}</td>\n",
       "      <td>i have never really used it. i don't really ge...</td>\n",
       "      <td>Dummies books make no sense to me.</td>\n",
       "      <td>2</td>\n",
       "      <td>4</td>\n",
       "      <td>2</td>\n",
       "      <td>2015</td>\n",
       "      <td>0</td>\n",
       "      <td>i have never really used it i dont really get ...</td>\n",
       "    </tr>\n",
       "    <tr>\n",
       "      <th>68</th>\n",
       "      <td>True</td>\n",
       "      <td>2015-02-04</td>\n",
       "      <td>A2FZ9WX2OZALOL</td>\n",
       "      <td>B0007Y09VO</td>\n",
       "      <td>{'Format:': ' Paperback'}</td>\n",
       "      <td>package arrived in the time frame that was gua...</td>\n",
       "      <td>Arrived with cover damage</td>\n",
       "      <td>2</td>\n",
       "      <td>4</td>\n",
       "      <td>2</td>\n",
       "      <td>2015</td>\n",
       "      <td>0</td>\n",
       "      <td>package arrived in the time frame that was gua...</td>\n",
       "    </tr>\n",
       "    <tr>\n",
       "      <th>91</th>\n",
       "      <td>True</td>\n",
       "      <td>2014-11-05</td>\n",
       "      <td>ADEM1JPNOTCF0</td>\n",
       "      <td>B0007Y09VO</td>\n",
       "      <td>{'Format:': ' Kindle Edition'}</td>\n",
       "      <td>this book is just okay. crochet step-by-step b...</td>\n",
       "      <td>Crochet step-by-step by Sally Harding is much ...</td>\n",
       "      <td>2</td>\n",
       "      <td>5</td>\n",
       "      <td>11</td>\n",
       "      <td>2014</td>\n",
       "      <td>0</td>\n",
       "      <td>this book is just okay crochet stepbystep by s...</td>\n",
       "    </tr>\n",
       "    <tr>\n",
       "      <th>100</th>\n",
       "      <td>True</td>\n",
       "      <td>2014-09-13</td>\n",
       "      <td>AJQE3PHADIPEX</td>\n",
       "      <td>B0007Y09VO</td>\n",
       "      <td>{'Format:': ' Kindle Edition'}</td>\n",
       "      <td>save yourself the oftalmologist's visit and bu...</td>\n",
       "      <td>Don't Buy the Kindle Edition!</td>\n",
       "      <td>1</td>\n",
       "      <td>13</td>\n",
       "      <td>9</td>\n",
       "      <td>2014</td>\n",
       "      <td>0</td>\n",
       "      <td>save yourself the oftalmologists visit and buy...</td>\n",
       "    </tr>\n",
       "    <tr>\n",
       "      <th>160</th>\n",
       "      <td>True</td>\n",
       "      <td>2013-02-22</td>\n",
       "      <td>A3BM4YBXXXCLFK</td>\n",
       "      <td>B0007Y09VO</td>\n",
       "      <td>{'Format:': ' Kindle Edition'}</td>\n",
       "      <td>this book was not what i thought, there should...</td>\n",
       "      <td>Not worth the money spent</td>\n",
       "      <td>1</td>\n",
       "      <td>22</td>\n",
       "      <td>2</td>\n",
       "      <td>2013</td>\n",
       "      <td>0</td>\n",
       "      <td>this book was not what i thought there should ...</td>\n",
       "    </tr>\n",
       "    <tr>\n",
       "      <th>...</th>\n",
       "      <td>...</td>\n",
       "      <td>...</td>\n",
       "      <td>...</td>\n",
       "      <td>...</td>\n",
       "      <td>...</td>\n",
       "      <td>...</td>\n",
       "      <td>...</td>\n",
       "      <td>...</td>\n",
       "      <td>...</td>\n",
       "      <td>...</td>\n",
       "      <td>...</td>\n",
       "      <td>...</td>\n",
       "      <td>...</td>\n",
       "    </tr>\n",
       "    <tr>\n",
       "      <th>171</th>\n",
       "      <td>True</td>\n",
       "      <td>2012-12-13</td>\n",
       "      <td>A2YJW4WFTN58FM</td>\n",
       "      <td>B0007Y09VO</td>\n",
       "      <td>{'Format:': ' Paperback'}</td>\n",
       "      <td>it has proven to be a very useful book that i ...</td>\n",
       "      <td>Crocheting for Dummies</td>\n",
       "      <td>5</td>\n",
       "      <td>13</td>\n",
       "      <td>12</td>\n",
       "      <td>2012</td>\n",
       "      <td>1</td>\n",
       "      <td>it has proven to be a very useful book that i ...</td>\n",
       "    </tr>\n",
       "    <tr>\n",
       "      <th>172</th>\n",
       "      <td>True</td>\n",
       "      <td>2012-12-10</td>\n",
       "      <td>A1HKC507NJWPGL</td>\n",
       "      <td>B0007Y09VO</td>\n",
       "      <td>{'Format:': ' Paperback'}</td>\n",
       "      <td>after months of trying to teach myself to croc...</td>\n",
       "      <td>If you want to learn to crochet, this book is ...</td>\n",
       "      <td>5</td>\n",
       "      <td>10</td>\n",
       "      <td>12</td>\n",
       "      <td>2012</td>\n",
       "      <td>1</td>\n",
       "      <td>after months of trying to teach myself to croc...</td>\n",
       "    </tr>\n",
       "    <tr>\n",
       "      <th>173</th>\n",
       "      <td>True</td>\n",
       "      <td>2012-11-25</td>\n",
       "      <td>A296UIW2RLNPMY</td>\n",
       "      <td>B0007Y09VO</td>\n",
       "      <td>{'Format:': ' Paperback'}</td>\n",
       "      <td>not what i expected but that is okay if i can ...</td>\n",
       "      <td>Its okay.</td>\n",
       "      <td>3</td>\n",
       "      <td>25</td>\n",
       "      <td>11</td>\n",
       "      <td>2012</td>\n",
       "      <td>1</td>\n",
       "      <td>not what i expected but that is okay if i can ...</td>\n",
       "    </tr>\n",
       "    <tr>\n",
       "      <th>174</th>\n",
       "      <td>True</td>\n",
       "      <td>2012-11-24</td>\n",
       "      <td>A2UTX90CSJ946</td>\n",
       "      <td>B0007Y09VO</td>\n",
       "      <td>NaN</td>\n",
       "      <td>very descriptive and helpful! isn't confusing ...</td>\n",
       "      <td>Love it!</td>\n",
       "      <td>5</td>\n",
       "      <td>24</td>\n",
       "      <td>11</td>\n",
       "      <td>2012</td>\n",
       "      <td>1</td>\n",
       "      <td>very descriptive and helpful isnt confusing li...</td>\n",
       "    </tr>\n",
       "    <tr>\n",
       "      <th>175</th>\n",
       "      <td>True</td>\n",
       "      <td>2012-11-21</td>\n",
       "      <td>A3O58CCXUC5SA1</td>\n",
       "      <td>B0007Y09VO</td>\n",
       "      <td>{'Format:': ' Kindle Edition'}</td>\n",
       "      <td>i just taught myself how to crochet and i woul...</td>\n",
       "      <td>must have!</td>\n",
       "      <td>4</td>\n",
       "      <td>21</td>\n",
       "      <td>11</td>\n",
       "      <td>2012</td>\n",
       "      <td>1</td>\n",
       "      <td>i just taught myself how to crochet and i woul...</td>\n",
       "    </tr>\n",
       "  </tbody>\n",
       "</table>\n",
       "<p>340 rows × 13 columns</p>\n",
       "</div>"
      ],
      "text/plain": [
       "     verified  reviewTime      reviewerID        asin  \\\n",
       "67       True  2015-02-04  A1JN8TZDMG8Y2F  B0007Y09VO   \n",
       "68       True  2015-02-04  A2FZ9WX2OZALOL  B0007Y09VO   \n",
       "91       True  2014-11-05   ADEM1JPNOTCF0  B0007Y09VO   \n",
       "100      True  2014-09-13   AJQE3PHADIPEX  B0007Y09VO   \n",
       "160      True  2013-02-22  A3BM4YBXXXCLFK  B0007Y09VO   \n",
       "..        ...         ...             ...         ...   \n",
       "171      True  2012-12-13  A2YJW4WFTN58FM  B0007Y09VO   \n",
       "172      True  2012-12-10  A1HKC507NJWPGL  B0007Y09VO   \n",
       "173      True  2012-11-25  A296UIW2RLNPMY  B0007Y09VO   \n",
       "174      True  2012-11-24   A2UTX90CSJ946  B0007Y09VO   \n",
       "175      True  2012-11-21  A3O58CCXUC5SA1  B0007Y09VO   \n",
       "\n",
       "                              style  \\\n",
       "67        {'Format:': ' Paperback'}   \n",
       "68        {'Format:': ' Paperback'}   \n",
       "91   {'Format:': ' Kindle Edition'}   \n",
       "100  {'Format:': ' Kindle Edition'}   \n",
       "160  {'Format:': ' Kindle Edition'}   \n",
       "..                              ...   \n",
       "171       {'Format:': ' Paperback'}   \n",
       "172       {'Format:': ' Paperback'}   \n",
       "173       {'Format:': ' Paperback'}   \n",
       "174                             NaN   \n",
       "175  {'Format:': ' Kindle Edition'}   \n",
       "\n",
       "                                            reviewText  \\\n",
       "67   i have never really used it. i don't really ge...   \n",
       "68   package arrived in the time frame that was gua...   \n",
       "91   this book is just okay. crochet step-by-step b...   \n",
       "100  save yourself the oftalmologist's visit and bu...   \n",
       "160  this book was not what i thought, there should...   \n",
       "..                                                 ...   \n",
       "171  it has proven to be a very useful book that i ...   \n",
       "172  after months of trying to teach myself to croc...   \n",
       "173  not what i expected but that is okay if i can ...   \n",
       "174  very descriptive and helpful! isn't confusing ...   \n",
       "175  i just taught myself how to crochet and i woul...   \n",
       "\n",
       "                                               summary  overall  day  month  \\\n",
       "67                  Dummies books make no sense to me.        2    4      2   \n",
       "68                           Arrived with cover damage        2    4      2   \n",
       "91   Crochet step-by-step by Sally Harding is much ...        2    5     11   \n",
       "100                      Don't Buy the Kindle Edition!        1   13      9   \n",
       "160                          Not worth the money spent        1   22      2   \n",
       "..                                                 ...      ...  ...    ...   \n",
       "171                             Crocheting for Dummies        5   13     12   \n",
       "172  If you want to learn to crochet, this book is ...        5   10     12   \n",
       "173                                          Its okay.        3   25     11   \n",
       "174                                           Love it!        5   24     11   \n",
       "175                                         must have!        4   21     11   \n",
       "\n",
       "     year  sentiment                                       review_clean  \n",
       "67   2015          0  i have never really used it i dont really get ...  \n",
       "68   2015          0  package arrived in the time frame that was gua...  \n",
       "91   2014          0  this book is just okay crochet stepbystep by s...  \n",
       "100  2014          0  save yourself the oftalmologists visit and buy...  \n",
       "160  2013          0  this book was not what i thought there should ...  \n",
       "..    ...        ...                                                ...  \n",
       "171  2012          1  it has proven to be a very useful book that i ...  \n",
       "172  2012          1  after months of trying to teach myself to croc...  \n",
       "173  2012          1  not what i expected but that is okay if i can ...  \n",
       "174  2012          1  very descriptive and helpful isnt confusing li...  \n",
       "175  2012          1  i just taught myself how to crochet and i woul...  \n",
       "\n",
       "[340 rows x 13 columns]"
      ]
     },
     "execution_count": 12,
     "metadata": {},
     "output_type": "execute_result"
    }
   ],
   "source": [
    "df_sampled"
   ]
  },
  {
   "cell_type": "markdown",
   "id": "18f31352",
   "metadata": {},
   "source": [
    "# Modeling Functions"
   ]
  },
  {
   "cell_type": "markdown",
   "id": "3fcdc99a",
   "metadata": {},
   "source": [
    "I will use functions for my modeling and spliting parts because I want to get results easily when I changed something in model."
   ]
  },
  {
   "cell_type": "code",
   "execution_count": 18,
   "id": "e82a1be4",
   "metadata": {},
   "outputs": [],
   "source": [
    "def model_split(df) :\n",
    "    '''This function splits data to train and test, then vectorized reviews '''\n",
    "    \n",
    "    # split train-test\n",
    "    X_train, X_test, y_train, y_test = train_test_split(df['review_clean'], \n",
    "                                                        df['sentiment'], test_size=0.2, random_state=42)\n",
    "   \n",
    "        \n",
    "    # define vectorize and fit to data     \n",
    "    word_vectorizer = TfidfVectorizer(sublinear_tf=True,strip_accents='unicode',\n",
    "        analyzer='word',token_pattern=r'\\w{1,}',stop_words='english',\n",
    "        ngram_range=(1, 1),max_features=10000)\n",
    "\n",
    "    word_vectorizer.fit(df['review_clean'])\n",
    "    \n",
    "    # train - test vectorized features - tranforming to suitable format for modeling\n",
    "    train_word_features = word_vectorizer.transform(X_train) \n",
    "    test_word_features = word_vectorizer.transform(X_test)\n",
    "    \n",
    "    return train_word_features , test_word_features, y_train, y_test "
   ]
  },
  {
   "cell_type": "code",
   "execution_count": 19,
   "id": "c6534419",
   "metadata": {},
   "outputs": [],
   "source": [
    "def model(df,classifier):\n",
    "    '''this function gives modeling results and confusion matrix also'''\n",
    "    train_word_features,test_word_features,y_train,y_test = model_split(df)\n",
    "    classifier.fit(train_word_features, y_train)\n",
    "    \n",
    "    # calculating results \n",
    "    y_pred_train = classifier.predict(train_word_features)\n",
    "    y_pred = classifier.predict(test_word_features)\n",
    "    \n",
    "    #for smart printing (learned from our lead instructor Bryan Arnold)\n",
    "    print(\"Accuracy:\"); print(\"=\"*len(\"Accuracy:\"))\n",
    "    print(f\"TRAIN: {accuracy_score(y_train, y_pred_train)}\")\n",
    "    print(f\"TEST: {accuracy_score(y_test, y_pred)}\")\n",
    "\n",
    "    print(\"\\nBalanced Accuracy:\"); print(\"=\"*len(\"Balanced Accuracy:\"))\n",
    "    print(f\"TRAIN: {balanced_accuracy_score(y_train, y_pred_train)}\")\n",
    "    print(f\"TEST: {balanced_accuracy_score(y_test, y_pred)}\")\n",
    "    \n",
    "    # plot confusion matrix\n",
    "    cm = confusion_matrix(y_test, y_pred)\n",
    "    plot_confusion_matrix(cm)\n",
    "    plt.show()"
   ]
  },
  {
   "cell_type": "code",
   "execution_count": 20,
   "id": "db3cf6b1",
   "metadata": {},
   "outputs": [
    {
     "name": "stdout",
     "output_type": "stream",
     "text": [
      "Accuracy:\n",
      "=========\n",
      "TRAIN: 0.9889705882352942\n",
      "TEST: 0.9411764705882353\n",
      "\n",
      "Balanced Accuracy:\n",
      "==================\n",
      "TRAIN: 0.9888059701492538\n",
      "TEST: 0.9427083333333333\n"
     ]
    },
    {
     "data": {
      "image/png": "[encoded data removed]",
      "text/plain": [
       "<Figure size 432x288 with 1 Axes>"
      ]
     },
     "metadata": {
      "needs_background": "light"
     },
     "output_type": "display_data"
    }
   ],
   "source": [
    "# Choosing and filtering classifier\n",
    "classifier=LogisticRegression(class_weight='balanced',C=0.5,solver='sag')\n",
    "model(df_sampled,classifier)"
   ]
  },
  {
   "cell_type": "markdown",
   "id": "eb95dbbc",
   "metadata": {},
   "source": [
    "# One More Check to See roc-auc Score with Cross-Val"
   ]
  },
  {
   "cell_type": "code",
   "execution_count": 21,
   "id": "43ac7313",
   "metadata": {},
   "outputs": [],
   "source": [
    "word_vectorizer=TfidfVectorizer(sublinear_tf=True,strip_accents='unicode',analyzer='word',token_pattern=r'\\w{1,}',\n",
    "                               stop_words='english',ngram_range=(1,1),max_features=1000)"
   ]
  },
  {
   "cell_type": "code",
   "execution_count": 22,
   "id": "37273388",
   "metadata": {},
   "outputs": [
    {
     "data": {
      "text/plain": [
       "TfidfVectorizer(max_features=1000, stop_words='english',\n",
       "                strip_accents='unicode', sublinear_tf=True,\n",
       "                token_pattern='\\\\w{1,}')"
      ]
     },
     "execution_count": 22,
     "metadata": {},
     "output_type": "execute_result"
    }
   ],
   "source": [
    "word_vectorizer.fit(df_sampled['review_clean'])"
   ]
  },
  {
   "cell_type": "code",
   "execution_count": 23,
   "id": "3e56423d",
   "metadata": {},
   "outputs": [
    {
     "name": "stdout",
     "output_type": "stream",
     "text": [
      "0.9701602324524763 +/- 0.037903869807013484\n"
     ]
    }
   ],
   "source": [
    "word_features=word_vectorizer.transform(df_sampled['review_clean'])\n",
    "scores=cross_val_score(classifier,word_features,df_sampled['sentiment'],cv=3,scoring='roc_auc')\n",
    "print(scores.mean(),'+/-',scores.std())"
   ]
  },
  {
   "cell_type": "markdown",
   "id": "d68cb62b",
   "metadata": {},
   "source": [
    "I have got pretty good results "
   ]
  },
  {
   "cell_type": "code",
   "execution_count": null,
   "id": "986c6fc1",
   "metadata": {},
   "outputs": [],
   "source": []
  },
  {
   "cell_type": "markdown",
   "id": "b08ad575",
   "metadata": {},
   "source": [
    "# Decision Tree Classifier\n",
    "Decision tree classifier is a supervised classification technique which splits data according to certain parameters continuously"
   ]
  },
  {
   "cell_type": "code",
   "execution_count": 24,
   "id": "3fef78e7",
   "metadata": {},
   "outputs": [
    {
     "name": "stdout",
     "output_type": "stream",
     "text": [
      "Accuracy:\n",
      "=========\n",
      "TRAIN: 0.8014705882352942\n",
      "TEST: 0.7941176470588235\n",
      "\n",
      "Balanced Accuracy:\n",
      "==================\n",
      "TRAIN: 0.7987237724421372\n",
      "TEST: 0.8055555555555556\n"
     ]
    },
    {
     "data": {
      "image/png": "[encoded data removed]",
      "text/plain": [
       "<Figure size 432x288 with 1 Axes>"
      ]
     },
     "metadata": {
      "needs_background": "light"
     },
     "output_type": "display_data"
    }
   ],
   "source": [
    "de_tree=DecisionTreeClassifier(criterion='entropy',max_depth=4,min_samples_leaf=5,class_weight='balanced')\n",
    "model(df_sampled,de_tree)"
   ]
  },
  {
   "cell_type": "markdown",
   "id": "c959cbb7",
   "metadata": {},
   "source": [
    "I got good result but as compare to logreg the accuracy is less.With simple logreg my test accuracy is 95 but this ones gives 79"
   ]
  },
  {
   "cell_type": "markdown",
   "id": "987d6c79",
   "metadata": {},
   "source": [
    "# Extra-Trees Classifier\n",
    "Extra Trees works like a Random Forest. It builds multiple trees and splits nodes using random subsets of features. There are two main differences it does not samples without replacement, and nodes are split on random splits, not best splits. I also used different parameters and tuned them manually."
   ]
  },
  {
   "cell_type": "code",
   "execution_count": 25,
   "id": "b023e08c",
   "metadata": {},
   "outputs": [],
   "source": [
    "extra_tree=ExtraTreesClassifier(max_depth=5,criterion='entropy',min_samples_leaf=3,min_samples_split=15,random_state=42,\n",
    "                               n_estimators=100,class_weight='balanced',n_jobs=-1)"
   ]
  },
  {
   "cell_type": "code",
   "execution_count": 26,
   "id": "9f502a4b",
   "metadata": {},
   "outputs": [
    {
     "name": "stdout",
     "output_type": "stream",
     "text": [
      "Accuracy:\n",
      "=========\n",
      "TRAIN: 0.9485294117647058\n",
      "TEST: 0.8970588235294118\n",
      "\n",
      "Balanced Accuracy:\n",
      "==================\n",
      "TRAIN: 0.9477611940298507\n",
      "TEST: 0.9027777777777778\n"
     ]
    },
    {
     "data": {
      "image/png": "[encoded data removed]",
      "text/plain": [
       "<Figure size 432x288 with 1 Axes>"
      ]
     },
     "metadata": {
      "needs_background": "light"
     },
     "output_type": "display_data"
    }
   ],
   "source": [
    "model(df_sampled,extra_tree)"
   ]
  },
  {
   "cell_type": "markdown",
   "id": "ccb479d3",
   "metadata": {},
   "source": [
    "As compare to DecisionTreeClassifier  test accuracy got increase but still simple logreg gives higher test accuracy "
   ]
  },
  {
   "cell_type": "markdown",
   "id": "0e75731b",
   "metadata": {},
   "source": [
    "# Random Forest Classifier\n",
    "Random forest models can reduce overfitting risk by randomness as building n_estimators, bootstrapping sample and splitting nodes on the best split among a random subset of the features selected at every node and converting non-homogeneous node into best possibles"
   ]
  },
  {
   "cell_type": "code",
   "execution_count": 27,
   "id": "fa6eca5c",
   "metadata": {},
   "outputs": [
    {
     "name": "stdout",
     "output_type": "stream",
     "text": [
      "Accuracy:\n",
      "=========\n",
      "TRAIN: 1.0\n",
      "TEST: 0.8970588235294118\n",
      "\n",
      "Balanced Accuracy:\n",
      "==================\n",
      "TRAIN: 1.0\n",
      "TEST: 0.9027777777777778\n"
     ]
    },
    {
     "data": {
      "image/png": "[encoded data removed]",
      "text/plain": [
       "<Figure size 432x288 with 1 Axes>"
      ]
     },
     "metadata": {
      "needs_background": "light"
     },
     "output_type": "display_data"
    }
   ],
   "source": [
    "random_forest=RandomForestClassifier(n_estimators=100,n_jobs=-1,class_weight='balanced',criterion='entropy',max_features='sqrt',\n",
    "                                    min_samples_split=5)\n",
    "model(df_sampled,random_forest)"
   ]
  },
  {
   "cell_type": "markdown",
   "id": "7e461df6",
   "metadata": {},
   "source": [
    "RandomForest gives good test accuracy but still simple logreg gives best test accuracy.Random forest give high accuracy but it is overfit. It could not split my target well. I can find best parameters for my model and tune it with grid search."
   ]
  },
  {
   "cell_type": "markdown",
   "id": "fce2440e",
   "metadata": {},
   "source": [
    "# GridSearchCV"
   ]
  },
  {
   "cell_type": "code",
   "execution_count": 28,
   "id": "3bbfd0e7",
   "metadata": {},
   "outputs": [],
   "source": [
    "grid_p={'n_estimators':[10,20,30],\n",
    "       'criterion':['gini','entropy'],\n",
    "       'max_features':['sqrt','log2'],\n",
    "       'min_samples_split':[2,4,6]}"
   ]
  },
  {
   "cell_type": "code",
   "execution_count": 29,
   "id": "e11fd61e",
   "metadata": {},
   "outputs": [
    {
     "data": {
      "text/plain": [
       "GridSearchCV(cv=3,\n",
       "             estimator=RandomForestClassifier(class_weight='balanced',\n",
       "                                              criterion='entropy',\n",
       "                                              max_features='sqrt',\n",
       "                                              min_samples_split=5, n_jobs=-1),\n",
       "             n_jobs=-1,\n",
       "             param_grid={'criterion': ['gini', 'entropy'],\n",
       "                         'max_features': ['sqrt', 'log2'],\n",
       "                         'min_samples_split': [2, 4, 6],\n",
       "                         'n_estimators': [10, 20, 30]},\n",
       "             scoring='roc_auc')"
      ]
     },
     "execution_count": 29,
     "metadata": {},
     "output_type": "execute_result"
    }
   ],
   "source": [
    "grid_search=GridSearchCV(random_forest,grid_p,n_jobs=-1,cv=3,scoring='roc_auc')\n",
    "grid_search.fit(word_features,df_sampled['sentiment'])"
   ]
  },
  {
   "cell_type": "code",
   "execution_count": 30,
   "id": "376973e1",
   "metadata": {},
   "outputs": [
    {
     "data": {
      "text/plain": [
       "0.9734863474475662"
      ]
     },
     "execution_count": 30,
     "metadata": {},
     "output_type": "execute_result"
    }
   ],
   "source": [
    "grid_search.best_score_"
   ]
  },
  {
   "cell_type": "markdown",
   "id": "ac7b82a3",
   "metadata": {},
   "source": [
    "# XGBoost Classifier\n",
    "XGBoost is an efficient and flexiable classifier which implements models with Gradient Boosting. Although, it is very usefull classifier, it can be overfit easily. So, parameter selection is very imporant for XGBoost. I can do grid search also for XGBoost to tune our parameters but it takes too much time. So, I played around our parameters manually and decided the best one."
   ]
  },
  {
   "cell_type": "code",
   "execution_count": 31,
   "id": "fddc151f",
   "metadata": {},
   "outputs": [
    {
     "name": "stdout",
     "output_type": "stream",
     "text": [
      "Accuracy:\n",
      "=========\n",
      "TRAIN: 0.9963235294117647\n",
      "TEST: 0.9117647058823529\n",
      "\n",
      "Balanced Accuracy:\n",
      "==================\n",
      "TRAIN: 0.9962686567164178\n",
      "TEST: 0.9149305555555556\n"
     ]
    },
    {
     "data": {
      "image/png": "[encoded data removed]",
      "text/plain": [
       "<Figure size 432x288 with 1 Axes>"
      ]
     },
     "metadata": {
      "needs_background": "light"
     },
     "output_type": "display_data"
    }
   ],
   "source": [
    "xgb=XGBClassifier(objective='multi:softmax',booster='gbtree',num_class=3,eval_metric='mlogloss',\n",
    "                  eta=.1,max_depth=12,colsample_bytree=0.4,\n",
    "                 learning_rate=0.1,max_delta_step=1)\n",
    "model(df_sampled,xgb)"
   ]
  },
  {
   "cell_type": "markdown",
   "id": "8785f74d",
   "metadata": {},
   "source": [
    "It gives good result but better than simple logreg"
   ]
  },
  {
   "cell_type": "markdown",
   "id": "b5c12286",
   "metadata": {},
   "source": [
    "# LGBM Classifier\n",
    "LGBM also constructs a gradient boosting model. It has some advantages that faster training speed and higher efficiency with lower memory usage. It is capable large data sets with significantly quicker than XGBoost. So, I tried this one also."
   ]
  },
  {
   "cell_type": "code",
   "execution_count": 32,
   "id": "13689c7d",
   "metadata": {},
   "outputs": [
    {
     "name": "stdout",
     "output_type": "stream",
     "text": [
      "Accuracy:\n",
      "=========\n",
      "TRAIN: 0.8639705882352942\n",
      "TEST: 0.9264705882352942\n",
      "\n",
      "Balanced Accuracy:\n",
      "==================\n",
      "TRAIN: 0.8649686350854424\n",
      "TEST: 0.9253472222222222\n"
     ]
    },
    {
     "data": {
      "image/png": "[encoded data removed]",
      "text/plain": [
       "<Figure size 432x288 with 1 Axes>"
      ]
     },
     "metadata": {
      "needs_background": "light"
     },
     "output_type": "display_data"
    }
   ],
   "source": [
    "lgbm = LGBMClassifier(boosting_type='gbdt',max_depth =-1, colsample_bytree = .4,max_delta_step=1)\n",
    "model(df_sampled, lgbm)"
   ]
  },
  {
   "cell_type": "markdown",
   "id": "cd7e67f0",
   "metadata": {},
   "source": [
    "It gives higher than XGBM classifier but less than legreg."
   ]
  },
  {
   "cell_type": "code",
   "execution_count": 33,
   "id": "7d3a764f",
   "metadata": {},
   "outputs": [],
   "source": [
    "# to keep result and see in dataframe\n",
    "df_results=pd.DataFrame(columns=['model','train_balanced','test_balanced'])"
   ]
  },
  {
   "cell_type": "code",
   "execution_count": 34,
   "id": "1eadaab1",
   "metadata": {},
   "outputs": [],
   "source": [
    "df_results=df_results.append({'model':'Logreg',\n",
    "                             'train_balanced':0.98,\n",
    "                             'test_balanced':0.94},ignore_index=True)\n",
    "\n",
    "df_results=df_results.append({'model':'Decision Tree',\n",
    "                             'train_balanced':0.80,\n",
    "                             'test_balanced':0.81},ignore_index=True)\n",
    "\n",
    "df_results=df_results.append({'model':'Extra Tree',\n",
    "                             'train_balanced':0.94,\n",
    "                             'test_balanced':0.91},ignore_index=True)\n",
    "\n",
    "df_results=df_results.append({'model':'Random Forest',\n",
    "                             'train_balanced':0.99,\n",
    "                             'test_balanced':0.92},ignore_index=True)\n",
    "df_results=df_results.append({'model':'XGBM',\n",
    "                             'train_balanced':0.99,\n",
    "                             'test_balanced':0.91},ignore_index=True)\n",
    "df_results=df_results.append({'model':'LGBM',\n",
    "                             'train_balanced':0.86,\n",
    "                             'test_balanced':0.92},ignore_index=True)"
   ]
  },
  {
   "cell_type": "code",
   "execution_count": 35,
   "id": "c9c9a91d",
   "metadata": {},
   "outputs": [
    {
     "data": {
      "text/html": [
       "<div>\n",
       "<style scoped>\n",
       "    .dataframe tbody tr th:only-of-type {\n",
       "        vertical-align: middle;\n",
       "    }\n",
       "\n",
       "    .dataframe tbody tr th {\n",
       "        vertical-align: top;\n",
       "    }\n",
       "\n",
       "    .dataframe thead th {\n",
       "        text-align: right;\n",
       "    }\n",
       "</style>\n",
       "<table border=\"1\" class=\"dataframe\">\n",
       "  <thead>\n",
       "    <tr style=\"text-align: right;\">\n",
       "      <th></th>\n",
       "      <th>model</th>\n",
       "      <th>train_balanced</th>\n",
       "      <th>test_balanced</th>\n",
       "    </tr>\n",
       "  </thead>\n",
       "  <tbody>\n",
       "    <tr>\n",
       "      <th>0</th>\n",
       "      <td>Logreg</td>\n",
       "      <td>0.98</td>\n",
       "      <td>0.94</td>\n",
       "    </tr>\n",
       "    <tr>\n",
       "      <th>1</th>\n",
       "      <td>Decision Tree</td>\n",
       "      <td>0.80</td>\n",
       "      <td>0.81</td>\n",
       "    </tr>\n",
       "    <tr>\n",
       "      <th>2</th>\n",
       "      <td>Extra Tree</td>\n",
       "      <td>0.94</td>\n",
       "      <td>0.91</td>\n",
       "    </tr>\n",
       "    <tr>\n",
       "      <th>3</th>\n",
       "      <td>Random Forest</td>\n",
       "      <td>0.99</td>\n",
       "      <td>0.92</td>\n",
       "    </tr>\n",
       "    <tr>\n",
       "      <th>4</th>\n",
       "      <td>XGBM</td>\n",
       "      <td>0.99</td>\n",
       "      <td>0.91</td>\n",
       "    </tr>\n",
       "    <tr>\n",
       "      <th>5</th>\n",
       "      <td>LGBM</td>\n",
       "      <td>0.86</td>\n",
       "      <td>0.92</td>\n",
       "    </tr>\n",
       "  </tbody>\n",
       "</table>\n",
       "</div>"
      ],
      "text/plain": [
       "           model  train_balanced  test_balanced\n",
       "0         Logreg            0.98           0.94\n",
       "1  Decision Tree            0.80           0.81\n",
       "2     Extra Tree            0.94           0.91\n",
       "3  Random Forest            0.99           0.92\n",
       "4           XGBM            0.99           0.91\n",
       "5           LGBM            0.86           0.92"
      ]
     },
     "execution_count": 35,
     "metadata": {},
     "output_type": "execute_result"
    }
   ],
   "source": [
    "df_results"
   ]
  },
  {
   "cell_type": "code",
   "execution_count": 36,
   "id": "1cc3fde2",
   "metadata": {},
   "outputs": [
    {
     "data": {
      "text/plain": [
       "<AxesSubplot:xlabel='model', ylabel='test_balanced'>"
      ]
     },
     "execution_count": 36,
     "metadata": {},
     "output_type": "execute_result"
    },
    {
     "data": {
      "image/png": "[encoded data removed]",
      "text/plain": [
       "<Figure size 720x432 with 1 Axes>"
      ]
     },
     "metadata": {
      "needs_background": "light"
     },
     "output_type": "display_data"
    }
   ],
   "source": [
    "plt.figure(figsize=(10,6))\n",
    "sns.barplot(x='model',y='test_balanced',data=df_results)"
   ]
  },
  {
   "cell_type": "code",
   "execution_count": 37,
   "id": "f88dd4b8",
   "metadata": {},
   "outputs": [],
   "source": [
    "from sklearn.naive_bayes import MultinomialNB as MB\n"
   ]
  },
  {
   "cell_type": "code",
   "execution_count": 38,
   "id": "22a865da",
   "metadata": {},
   "outputs": [
    {
     "name": "stdout",
     "output_type": "stream",
     "text": [
      "Accuracy:\n",
      "=========\n",
      "TRAIN: 0.9852941176470589\n",
      "TEST: 0.9411764705882353\n",
      "\n",
      "Balanced Accuracy:\n",
      "==================\n",
      "TRAIN: 0.9850746268656716\n",
      "TEST: 0.9444444444444444\n"
     ]
    },
    {
     "data": {
      "image/png": "[encoded data removed]",
      "text/plain": [
       "<Figure size 432x288 with 1 Axes>"
      ]
     },
     "metadata": {
      "needs_background": "light"
     },
     "output_type": "display_data"
    }
   ],
   "source": [
    "classifier_mb=MB()\n",
    "model(df_sampled,classifier_mb)"
   ]
  },
  {
   "cell_type": "code",
   "execution_count": null,
   "id": "d3f9de8c",
   "metadata": {},
   "outputs": [],
   "source": []
  },
  {
   "cell_type": "code",
   "execution_count": 39,
   "id": "6939dd40",
   "metadata": {},
   "outputs": [],
   "source": [
    "import pickle\n",
    "pickle_out=open('review.pkl','wb')\n",
    "pickle.dump(df_sampled,pickle_out)\n",
    "pickle_out.close()"
   ]
  },
  {
   "cell_type": "code",
   "execution_count": 40,
   "id": "0e307608",
   "metadata": {},
   "outputs": [
    {
     "data": {
      "text/plain": [
       "<function BufferedWriter.close>"
      ]
     },
     "execution_count": 40,
     "metadata": {},
     "output_type": "execute_result"
    }
   ],
   "source": [
    "pickle_out=open('review1.pkl','wb')\n",
    "pickle.dump(df,pickle_out)\n",
    "pickle_out.close"
   ]
  },
  {
   "cell_type": "code",
   "execution_count": 13,
   "id": "9b10d936",
   "metadata": {},
   "outputs": [],
   "source": [
    "df_sampled.to_csv('df.csv',index=False)"
   ]
  },
  {
   "cell_type": "code",
   "execution_count": null,
   "id": "e6a01fed",
   "metadata": {},
   "outputs": [],
   "source": []
  }
 ],
 "metadata": {
  "kernelspec": {
   "display_name": "Python 3 (ipykernel)",
   "language": "python",
   "name": "python3"
  },
  "language_info": {
   "codemirror_mode": {
    "name": "ipython",
    "version": 3
   },
   "file_extension": ".py",
   "mimetype": "text/x-python",
   "name": "python",
   "nbconvert_exporter": "python",
   "pygments_lexer": "ipython3",
   "version": "3.9.7"
  },
  "toc": {
   "base_numbering": 1,
   "nav_menu": {},
   "number_sections": true,
   "sideBar": true,
   "skip_h1_title": false,
   "title_cell": "Table of Contents",
   "title_sidebar": "Contents",
   "toc_cell": false,
   "toc_position": {},
   "toc_section_display": true,
   "toc_window_display": false
  }
 },
 "nbformat": 4,
 "nbformat_minor": 5
}
