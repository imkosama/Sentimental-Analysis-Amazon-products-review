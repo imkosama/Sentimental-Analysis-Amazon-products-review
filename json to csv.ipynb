{
 "cells": [
  {
   "cell_type": "code",
   "execution_count": 1,
   "id": "8aa93b54",
   "metadata": {},
   "outputs": [],
   "source": [
    "# to read the data\n",
    "import os\n",
    "import json\n",
    "import gzip\n",
    "\n",
    "from urllib.request import urlopen\n",
    "\n",
    "# dataframe and series \n",
    "import pandas as pd\n",
    "import numpy as np"
   ]
  },
  {
   "cell_type": "code",
   "execution_count": 2,
   "id": "608968f4",
   "metadata": {},
   "outputs": [],
   "source": [
    "# getting data from json.gz file\n",
    "\n",
    "df_data = []\n",
    "with gzip.open('C:/Users/Osama Khan/Downloads/Musical_Instruments.json.gz') as data:\n",
    "    for i in data:\n",
    "        df_data.append(json.loads(i.strip()))"
   ]
  },
  {
   "cell_type": "code",
   "execution_count": 3,
   "id": "0d6143e6",
   "metadata": {},
   "outputs": [
    {
     "name": "stdout",
     "output_type": "stream",
     "text": [
      "1512530\n",
      "{'overall': 5.0, 'vote': '90', 'verified': False, 'reviewTime': '08 9, 2004', 'reviewerID': 'AXHY24HWOF184', 'asin': '0470536454', 'style': {'Format:': ' Paperback'}, 'reviewerName': 'Bendy', 'reviewText': 'Crocheting for Dummies by Karen Manthey & Susan Brittain is a wonderfully thorough and very informative book for anyone wanting to learn to crochet and or wanting to freshen up their skills.\\n\\nThe book reads like a storybook in paragraph form.  Everything is explained in great detail from choosing yarns and hooks, to how to work a large array of crochet stitches, to how to read a pattern, right down to how to care for ones crocheted items.\\n\\nThe stitch drawings are clear and expertly done making learning new stitches so much easier.\\n\\nThe book has both a contents page and an index for easy referral.  I especially liked the fact that an index was included.  So many crochet books do not include this.  The index makes it very easy to find information on a particular topic quickly.\\n\\nThe recommendations for people just learning to crochet are fantastic.  This book wasn\\'t out when I learned to crochet and I learned the hard way about many of the pit falls this book helps one to avoid.  For instance they recommend one start out with a size H-8 crochet hook and a light colored worsted weight yarn.  I learned with a B-1 hook and a fingering weight yarn.  After 2 whole days of crocheting it was 36\" long and 1.5\" tall.  I was trying to make a baby blanket for my doll (which never got made).\\n\\nThe book contains humor, not just in the cartoons but in the instructions as well which makes for very entertaining reading while one learns a new craft.  I always appreciate having a teacher with a sense of humor!\\n\\nA good sampling of designs is included so that one can try out their skills.  These include sweaters, an afghan, doilies, hot pads, pillow, scarves, floral motifs, and bandanas.\\n\\nI am a crochet designer and I read the book cover to cover like a storybook while on vacation this past week.  I thoroughly enjoyed it and learned a few things as well.  I would highly recommend this book to anyone interested in the art of crochet.', 'summary': 'Terrific Book for Learning the Art of Crochet', 'unixReviewTime': 1092009600}\n"
     ]
    }
   ],
   "source": [
    "# to see the length of the data, it means total number of reviews also\n",
    "print(len(df_data))\n",
    "\n",
    "# to see the first row of the list\n",
    "print(df_data[0])"
   ]
  },
  {
   "cell_type": "code",
   "execution_count": 4,
   "id": "819391cb",
   "metadata": {},
   "outputs": [],
   "source": [
    "df = pd.DataFrame.from_dict(df_data) # convert dictionary to dataframe"
   ]
  },
  {
   "cell_type": "code",
   "execution_count": 5,
   "id": "cc9f8b4e",
   "metadata": {},
   "outputs": [],
   "source": [
    "df.to_csv('Musical_Instruments1.csv', index = False) # to use easily everytime, I write it to csv"
   ]
  },
  {
   "cell_type": "markdown",
   "id": "19c41f37",
   "metadata": {},
   "source": [
    "## Meta data"
   ]
  },
  {
   "cell_type": "code",
   "execution_count": 13,
   "id": "f5222f82",
   "metadata": {},
   "outputs": [],
   "source": [
    "data_meta = []\n",
    "with gzip.open('C:/Users/Osama Khan/Downloads/meta_Musical_Instruments.json.gz') as d:\n",
    "    for i in d:\n",
    "        data_meta.append(json.loads(i.strip()))"
   ]
  },
  {
   "cell_type": "code",
   "execution_count": 14,
   "id": "d0aa6472",
   "metadata": {},
   "outputs": [
    {
     "name": "stdout",
     "output_type": "stream",
     "text": [
      "120310\n",
      "{'category': ['Musical Instruments', 'Drums & Percussion', 'Hand Percussion', 'Folk & World', 'Latin Percussion', 'Guiros'], 'tech1': '', 'description': [\"Cricket Rubbing the spine with the wooden stick up and down motion on its back making cricket chirping like buzzing or sizzling sound. Owl Whistle its back producing lovely high-low sounds. It would produce Owl's sound like 00-oo- hoo-hoo-hoo-hoo-oo-00. These products are 100% natural and handmade by local Thai artisan causing variations in its design and color. * Choose your owl design, either all brown or with black foot. Default is all brown.\"], 'fit': '', 'title': 'Wooden Percussion 2 Piece Set of 3 Inch Cricket and Inch Owl', 'also_buy': ['B00NP8GYVS', 'B00NP80XMO', 'B00NP8M098'], 'tech2': '', 'brand': 'WADSUWAN SHOP', 'feature': ['Wood percussion', 'Owl whistle*', 'Includes wooden scraper', 'Small 3\"', 'Age rating: 3+'], 'rank': ['>#141,729 in Musical Instruments (See Top 100 in Musical Instruments)', '>#95 in Musical Instruments > Drums & Percussion > Hand Percussion > Folk & World > Latin Percussion > Guiros'], 'also_view': [], 'main_cat': 'Musical Instruments', 'similar_item': '', 'date': 'December 2, 2013', 'price': '', 'asin': '0000989983', 'imageURL': ['https://images-na.ssl-images-amazon.com/images/I/41uxJnTyg6L._SS40_.jpg', 'https://images-na.ssl-images-amazon.com/images/I/31BuZbUjglL._SS40_.jpg', 'https://images-na.ssl-images-amazon.com/images/I/41O74Alxf5L._SS40_.jpg', 'https://images-na.ssl-images-amazon.com/images/I/41s43H5H2tL._SS40_.jpg'], 'imageURLHighRes': ['https://images-na.ssl-images-amazon.com/images/I/41uxJnTyg6L.jpg', 'https://images-na.ssl-images-amazon.com/images/I/31BuZbUjglL.jpg', 'https://images-na.ssl-images-amazon.com/images/I/41O74Alxf5L.jpg', 'https://images-na.ssl-images-amazon.com/images/I/41s43H5H2tL.jpg']}\n"
     ]
    }
   ],
   "source": [
    "# to see the length of the data, it means total number of products also\n",
    "print(len(data_meta))\n",
    "\n",
    "# to see the first row of the list\n",
    "print(data_meta[0])"
   ]
  },
  {
   "cell_type": "code",
   "execution_count": 15,
   "id": "c9977f3e",
   "metadata": {},
   "outputs": [],
   "source": [
    "df_meta = pd.DataFrame.from_dict(data_meta) #convert dictionary to dataframe"
   ]
  },
  {
   "cell_type": "code",
   "execution_count": 16,
   "id": "dd10d848",
   "metadata": {},
   "outputs": [],
   "source": [
    "df_meta.to_csv('Musical_Instrument_meta.csv', index = False) # to use easily everytime, I write it to csv"
   ]
  },
  {
   "cell_type": "code",
   "execution_count": null,
   "id": "d6520aa6",
   "metadata": {},
   "outputs": [],
   "source": []
  }
 ],
 "metadata": {
  "kernelspec": {
   "display_name": "Python 3",
   "language": "python",
   "name": "python3"
  },
  "language_info": {
   "codemirror_mode": {
    "name": "ipython",
    "version": 3
   },
   "file_extension": ".py",
   "mimetype": "text/x-python",
   "name": "python",
   "nbconvert_exporter": "python",
   "pygments_lexer": "ipython3",
   "version": "3.8.8"
  },
  "toc": {
   "base_numbering": 1,
   "nav_menu": {},
   "number_sections": true,
   "sideBar": true,
   "skip_h1_title": false,
   "title_cell": "Table of Contents",
   "title_sidebar": "Contents",
   "toc_cell": false,
   "toc_position": {},
   "toc_section_display": true,
   "toc_window_display": false
  }
 },
 "nbformat": 4,
 "nbformat_minor": 5
}
